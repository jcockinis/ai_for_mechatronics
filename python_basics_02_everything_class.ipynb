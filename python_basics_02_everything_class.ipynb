{
 "cells": [
  {
   "cell_type": "code",
   "execution_count": 10,
   "metadata": {
    "collapsed": true
   },
   "outputs": [
    {
     "name": "stdout",
     "output_type": "stream",
     "text": [
      "----list----\n64\n72\n----tuple----\n48\n64\n----dictionary----\n240\n240\n----set----\n224\n224\n----numpy array----\n96\n104\n100\n"
     ]
    }
   ],
   "source": [
    "\"\"\"\n",
    "Everything is a class / object:\n",
    "    integers, floats, strings, bool\n",
    "    list, tuple, dictionary\n",
    "    class, function\n",
    "    libraries, packages\n",
    "\"\"\"\n",
    "\n",
    "\n",
    "class SubjectInfo(object):\n",
    "    # class variables\n",
    "    description = 'The University of Melbourne subjects'\n",
    "    \n",
    "    def __init__(self):\n",
    "        # instance variables\n",
    "        self.subject_ID = None\n",
    "        self.subject_name = None\n",
    "        self.lecture_name = None\n",
    "        self.tutor_name = None\n",
    "        self.student_names = None\n",
    "        self.num_staff = None\n",
    "        self.num_students = 0\n",
    "        \n",
    "    @staticmethod\n",
    "    def do_count(name):  # class methods\n",
    "        if isinstance(name, str):\n",
    "            return 1\n",
    "        elif isinstance(name, (list, tuple, dict)):\n",
    "            return len(name)\n",
    "        elif name is None:\n",
    "            return 0\n",
    "        else:\n",
    "            raise AttributeError('Name must be str, list, tuple or dictionary.')\n",
    "        \n",
    "    def get_num_students(self):  # class methods\n",
    "        self.num_students = self.do_count(self.student_names)\n",
    "        return self.num_students\n",
    "        \n",
    "        \n",
    "class AIMechatronics(SubjectInfo):\n",
    "    def __init__(self):\n",
    "        super().__init__()\n",
    "        self.subject_ID = 'MCEN90048'\n",
    "        self.subject_name = 'AI for Mechatronics'\n",
    "        self.workshop_attendances = None\n",
    "        self.spartan_support = True\n",
    "        \n",
    "\n",
    "class AdvancedSolidMechanics(SubjectInfo):\n",
    "    def __init__(self):\n",
    "        super().__init__()\n",
    "        self.subject_ID = 'MCEN90029'\n",
    "        self.subject_name = 'Advanced Solid Mechanics'\n",
    "        self.tutorials = None\n",
    "        self.lab_study = True\n"
   ]
  },
  {
   "cell_type": "code",
   "execution_count": 11,
   "metadata": {
    "collapsed": true
   },
   "outputs": [
    {
     "name": "stdout",
     "output_type": "stream",
     "text": [
      "----list----\n64\n72\n----tuple----\n48\n64\n----dictionary----\n240\n240\n----set----\n224\n224\n----numpy array----\n96\n104\n100\n"
     ]
    }
   ],
   "source": [
    "my_subject = AIMechatronics()\n",
    "my_subject1 = AdvancedSolidMechanics()\n",
    "\n",
    "my_subject.tutor_name = 'Richard'\n",
    "my_subject.student_names = ['Olivia', 'Oliver', 'Amelia', 'Harry', \n",
    "                            'Isla', 'Jack']\n",
    "num_students = my_subject.get_num_students()\n",
    "print('Subject {} has {} students'.format(\n",
    "    my_subject.subject_ID + ' ' + my_subject.subject_name, \n",
    "    my_subject.num_students))\n",
    "print('Subject {} has {} students'.format(\n",
    "    my_subject1.subject_ID + ' ' + my_subject1.subject_name, \n",
    "    my_subject1.num_students))\n",
    "\n",
    "print(AIMechatronics.description)\n",
    "SubjectInfo.description = 'Mechanical Engineering subjects'\n",
    "print(my_subject.description)\n"
   ]
  },
  {
   "cell_type": "code",
   "execution_count": 8,
   "metadata": {
    "collapsed": true
   },
   "outputs": [
    {
     "name": "stdout",
     "output_type": "stream",
     "text": [
      "----list----\n64\n72\n----tuple----\n48\n64\n----dictionary----\n240\n240\n----set----\n224\n224\n----numpy array----\n96\n104\n100\n"
     ]
    }
   ],
   "source": [
    "# basic data types \n",
    "# numbers: integer, float, bool\n",
    "import sys\n",
    "\n",
    "# sys.getsizeof gets the memory size in bytes\n",
    "print(sys.getsizeof(32))  # we often use integer8, integer32, integer64\n",
    "print(sys.getsizeof(32.0))  # we will often use float32, float16\n",
    "print(sys.getsizeof(''))\n",
    "print(sys.getsizeof('s'))\n",
    "print(sys.getsizeof('str'))\n"
   ]
  },
  {
   "cell_type": "code",
   "execution_count": 19,
   "metadata": {
    "collapsed": true
   },
   "outputs": [
    {
     "name": "stdout",
     "output_type": "stream",
     "text": [
      "----list----\n64\n72\n----tuple----\n48\n64\n----dictionary----\n240\n240\n----set----\n224\n224\n----numpy array----\n96\n104\n100\n"
     ]
    }
   ],
   "source": [
    "# list, tuple, dictionary, sets\n",
    "import sys\n",
    "import numpy as np\n",
    "\n",
    "print('----list----')\n",
    "print(sys.getsizeof([]))  # list, square bracket\n",
    "print(sys.getsizeof([2.0]))  # list, square bracket\n",
    "print('----tuple----')\n",
    "print(sys.getsizeof(()))  # tuple, round bracket\n",
    "print(sys.getsizeof((3.0, 2.0)))  # tuple, round bracket\n",
    "print('----dictionary----')\n",
    "print(sys.getsizeof({}))  # empty dictionary, braces or curly brackets\n",
    "print(sys.getsizeof({'a': 3.0, 'b': 2.0}))  # dictionary initialized by key:value pair\n",
    "print('----set----')\n",
    "print(sys.getsizeof(set()))  # empty set, initialized by set()\n",
    "print(sys.getsizeof({3.0, 2.0}))  # empty set, initialized by set()\n",
    "print('----numpy array----')\n",
    "print(sys.getsizeof(np.array([])))  # numpy array, initialized by np.array\n",
    "print(sys.getsizeof(np.array([3.0])))\n",
    "print(sys.getsizeof(np.array([3.0], dtype=np.float32)))\n"
   ]
  },
  {
   "cell_type": "code",
   "execution_count": 16,
   "metadata": {
    "collapsed": true
   },
   "outputs": [
    {
     "name": "stdout",
     "output_type": "stream",
     "text": [
      "----list----\n64\n72\n----tuple----\n48\n64\n----dictionary----\n240\n240\n----set----\n224\n224\n----numpy array----\n96\n104\n100\n"
     ]
    }
   ],
   "source": [
    ""
   ]
  },
  {
   "cell_type": "code",
   "execution_count": 7,
   "metadata": {
    "collapsed": true
   },
   "outputs": [
    {
     "name": "stdout",
     "output_type": "stream",
     "text": [
      "[3, 5, 7]\n[5, 7]\n"
     ]
    }
   ],
   "source": [
    "# list comprehension\n",
    "a = [2, 4, 6]\n",
    "b = [element+1 for element in a]\n",
    "print(b)\n",
    "c = [element+1 for element in a if element > 3]\n",
    "print(c)\n"
   ]
  },
  {
   "cell_type": "code",
   "execution_count": 4,
   "metadata": {
    "collapsed": true
   },
   "outputs": [
    {
     "name": "stdout",
     "output_type": "stream",
     "text": [
      "[3, 5, 7]\n[5, 7]\n"
     ]
    }
   ],
   "source": [
    "# pass by reference\n",
    "import numpy as np\n",
    "\n",
    "a = np.array([2, 3, 4, 5])\n",
    "b = a + 10\n",
    "print(a)\n",
    "print(b)\n",
    "\n",
    "a = np.array([2, 3, 4, 5])\n",
    "c = a\n",
    "c[0] = 1\n",
    "print(a)\n",
    "print(c)\n",
    "\n",
    "a = np.array([2, 3, 4, 5])\n",
    "c = a.copy()\n",
    "c[0] = 1\n",
    "print(a)\n",
    "print(c)\n"
   ]
  },
  {
   "cell_type": "code",
   "execution_count": 8,
   "metadata": {
    "collapsed": true
   },
   "outputs": [
    {
     "name": "stdout",
     "output_type": "stream",
     "text": [
      "6\n"
     ]
    }
   ],
   "source": [
    "# lambda\n",
    "\n",
    "fun = lambda x: 2*x\n",
    "\n",
    "print(fun(3))\n"
   ]
  },
  {
   "cell_type": "code",
   "execution_count": 24,
   "metadata": {
    "collapsed": true
   },
   "outputs": [
    {
     "data": {
      "text/plain": [
       "317.36"
      ]
     },
     "execution_count": 24,
     "metadata": {},
     "output_type": "execute_result"
    }
   ],
   "source": [
    "39.67*8\n"
   ]
  },
  {
   "cell_type": "code",
   "execution_count": null,
   "metadata": {},
   "outputs": [],
   "source": []
  }
 ],
 "metadata": {
  "kernelspec": {
   "display_name": "Python 2",
   "language": "python",
   "name": "python2"
  },
  "language_info": {
   "codemirror_mode": {
    "name": "ipython",
    "version": 2
   },
   "file_extension": ".py",
   "mimetype": "text/x-python",
   "name": "python",
   "nbconvert_exporter": "python",
   "pygments_lexer": "ipython2",
   "version": "2.7.6"
  }
 },
 "nbformat": 4,
 "nbformat_minor": 0
}
